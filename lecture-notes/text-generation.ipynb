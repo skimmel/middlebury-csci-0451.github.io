{
  "cells": [
    {
      "cell_type": "markdown",
      "metadata": {
        "id": "view-in-github",
        "colab_type": "text"
      },
      "source": [
        "<a href=\"https://colab.research.google.com/github/middlebury-csci-0451/middlebury-csci-0451.github.io/blob/main/lecture-notes/text-generation.ipynb\" target=\"_parent\"><img src=\"https://colab.research.google.com/assets/colab-badge.svg\" alt=\"Open In Colab\"/></a>"
      ]
    },
    {
      "cell_type": "raw",
      "metadata": {
        "id": "LZdmN-4C5FNS"
      },
      "source": [
        "---\n",
        "title: |\n",
        "  Text Generation\n",
        "author: Phil Chodrow\n",
        "format: \n",
        "  html: \n",
        "    code-fold: false\n",
        "    cache: true\n",
        "    callout-appearance: minimal\n",
        "    cap-location: margin\n",
        "---"
      ]
    },
    {
      "cell_type": "markdown",
      "metadata": {
        "id": "view-in-github"
      },
      "source": [
        "<a href=\"https://colab.research.google.com/github/middlebury-csci-0451/CSCI-0451/blob/main/lecture-notes/text-generation.ipynb\" target=\"_parent\">Open these notes in Google Colab</a>\n",
        "\n",
        "<a href=\"https://colab.research.google.com/github/middlebury-csci-0451/CSCI-0451/blob/main/lecture-notes/text-generation-live.ipynb\" target=\"_parent\">Open the live version in Google Colab</a>"
      ]
    },
    {
      "cell_type": "markdown",
      "metadata": {
        "id": "qiYn6e_yQkcs"
      },
      "source": [
        "## Text Generation\n",
        "\n",
        "In this set of notes, we'll see a simple example of how to design and train models that perform *text generation*. Large language models (often called *chatbots*) are one familiar technology that uses text generation, while autocomplete features on websites and your devices are another. The text generation task is: \n",
        "\n",
        "> Given a text prompt, return a sequence of text that appears realistic as a follow-up to that prompt. \n",
        "\n",
        "Except for a brief foray into unsupervised learning, almost all of our attention in this course has been focused on prediction problems. At first glance, it may not appear that text generation involves any prediction at all. However, modern approaches to text generation rely fundamentally on supervised learning through the framework of *next token prediction*. \n",
        "\n",
        "## Next Token Prediction\n",
        "\n",
        "The *next token prediction* problem is to predict a single *token* in terms of previous tokens. A *token* is a single \"unit\" of text. What counts as a unit is somewhat flexible. In some cases, each token might be a single character: \"a\" is a token, \"b\" is a token, etc. In other cases, each token might be a word. [Many modern models do something in between and let tokens represent common short sequences of characters using *[byte-pair encoding](https://huggingface.co/learn/nlp-course/chapter6/5?fw=pt)*.]{.aside}\n",
        "\n",
        "For this set of lecture notes, we're going to treat *words* and *punctuation* as tokens. The next token prediction problem is: \n",
        "\n",
        "> Given a sequence of tokens, predict the next token in the sequence. \n",
        "\n",
        "For example, suppose that our sequence of tokens is \n",
        "\n",
        "> \"A computer science student\"\n",
        "\n",
        "We'd like to predict the next token in the sequence. Some likely candidates: \n",
        "\n",
        "- \"*is*\"\n",
        "- \"*codes*\" \n",
        "- \"*will*\"\n",
        "\n",
        "etc. On the other hand, some unlikely candidates: \n",
        "\n",
        "- \"*mango*\"\n",
        "- \"*grassy*\"\n",
        "- \"*tree*\"\n",
        "\n",
        "So, we can think of this as a prediction, even a classification problem: the sequence \"*A computer science student*\" might be classified as \"the category of sequences that are likely to be followed by the word *is*\". \n",
        "\n",
        "Once we have trained a model, the text generation task involves asking that model to make predictions, using those predictions to form new tokens, and then feeding those new tokens into the model again to get even more new tokens, etc. "
      ]
    },
    {
      "cell_type": "code",
      "execution_count": 1,
      "metadata": {
        "id": "6ehlyVuF5k9Z"
      },
      "outputs": [],
      "source": [
        "import pandas as pd\n",
        "import torch\n",
        "import numpy as np\n",
        "import string\n",
        "from torchsummary import summary\n",
        "from torchtext.vocab import build_vocab_from_iterator\n",
        "import torch.utils.data as data\n",
        "from torch import nn\n",
        "from torch.nn.functional import relu\n",
        "import re\n",
        "\n",
        "device = torch.device(\"cuda\" if torch.cuda.is_available() else \"cpu\")"
      ]
    },
    {
      "cell_type": "markdown",
      "metadata": {
        "id": "H-UE2rCQ5FNV"
      },
      "source": [
        "\n",
        "## Our Task\n",
        "\n",
        "Today, we are going to see whether we can teach an algorithm to understand and reproduce the pinnacle of cultural achievement; the benchmark against which all art is to be judged; the mirror that reveals to humany its truest self. I speak, of course, of *Star Trek: Deep Space Nine.*\n",
        "\n",
        "<figure class=\"image\" style=\"width:300px\">\n",
        "  <img src=\"https://raw.githubusercontent.com/PhilChodrow/PIC16B/master/_images/DS9.jpg\" alt=\"\">\n",
        "  <figcaption><i></i></figcaption>\n",
        "</figure>\n",
        "\n",
        "In particular, we are going to attempt to teach a neural  network to generate *episode scripts*. This a text generation task: after training, our hope is that our model will be able to create scripts that are reasonably realistic in their appearance. \n"
      ]
    },
    {
      "cell_type": "code",
      "execution_count": 2,
      "metadata": {
        "id": "_O_tKu5F5FNV"
      },
      "outputs": [],
      "source": [
        "## miscellaneous data cleaning\n",
        "\n",
        "start_episode = 20\n",
        "num_episodes = 25\n",
        "\n",
        "url = \"https://github.com/PhilChodrow/PIC16B/blob/master/datasets/star_trek_scripts.json?raw=true\"\n",
        "star_trek_scripts = pd.read_json(url)\n",
        "\n",
        "cleaned = star_trek_scripts[\"DS9\"].str.replace(\"\\n\\n\\n\\n\\n\\nThe Deep Space Nine Transcripts -\", \"\")\n",
        "cleaned = cleaned.str.split(\"\\n\\n\\n\\n\\n\\n\\n\").str.get(-2)\n",
        "text = \"\\n\\n\".join(cleaned[start_episode:(start_episode + num_episodes)])\n",
        "for char in ['\\xa0', 'à', 'é', \"}\", \"{\"]:\n",
        "    text = text.replace(char, \"\")"
      ]
    },
    {
      "cell_type": "markdown",
      "metadata": {
        "id": "2sWTTL_w5FNV"
      },
      "source": [
        "This is a *long* string of text. "
      ]
    },
    {
      "cell_type": "code",
      "execution_count": 3,
      "metadata": {
        "id": "e0p8gWI55FNW",
        "outputId": "357303d4-701e-4221-8641-4c8bb02e6e10",
        "colab": {
          "base_uri": "https://localhost:8080/"
        }
      },
      "outputs": [
        {
          "output_type": "execute_result",
          "data": {
            "text/plain": [
              "788662"
            ]
          },
          "metadata": {},
          "execution_count": 3
        }
      ],
      "source": [
        "len(text)"
      ]
    },
    {
      "cell_type": "markdown",
      "metadata": {
        "id": "qcuqygHf5FNW"
      },
      "source": [
        "Here's what it looks like when printed: "
      ]
    },
    {
      "cell_type": "code",
      "execution_count": 4,
      "metadata": {
        "id": "jEGO3WQ65FNW",
        "outputId": "94f13eda-1ca9-494e-912d-cc35e9d98071",
        "colab": {
          "base_uri": "https://localhost:8080/"
        }
      },
      "outputs": [
        {
          "output_type": "stream",
          "name": "stdout",
          "text": [
            "  Last\n",
            "time on Deep Space Nine.  \n",
            "SISKO: This is the emblem of the Alliance for Global Unity. They call\n",
            "themselves the Circle. \n",
            "O'BRIEN: What gives them the right to mess up our station? \n",
            "ODO: They're an extremist faction who believe in Bajor for the\n",
            "Bajorans. \n",
            "SISKO: I can't loan you a Starfleet runabout without knowing where you\n",
            "plan on taking it. \n",
            "KIRA: To Cardassia Four to rescue a Bajoran prisoner of war. \n",
            "(The prisoners are rescued.) \n",
            "KIRA: Come on. We have a ship waiting. \n",
            "JARO: What you \n"
          ]
        }
      ],
      "source": [
        "print(text[0:500])"
      ]
    },
    {
      "cell_type": "markdown",
      "metadata": {
        "id": "SYt6q0f05FNW"
      },
      "source": [
        "The string in raw form doesn't look quite as nice: "
      ]
    },
    {
      "cell_type": "code",
      "execution_count": 5,
      "metadata": {
        "id": "-fMX11d35FNW",
        "outputId": "729533e6-90a7-47f3-d387-a4c4684038d1",
        "colab": {
          "base_uri": "https://localhost:8080/",
          "height": 35
        }
      },
      "outputs": [
        {
          "output_type": "execute_result",
          "data": {
            "text/plain": [
              "'  Last\\ntime on Deep Space Nine.  \\nSISKO: This is the emblem of the Alliance for Global Unity. They c'"
            ],
            "application/vnd.google.colaboratory.intrinsic+json": {
              "type": "string"
            }
          },
          "metadata": {},
          "execution_count": 5
        }
      ],
      "source": [
        "text[0:100]"
      ]
    },
    {
      "cell_type": "markdown",
      "metadata": {
        "id": "Hg24oXbN5FNW"
      },
      "source": [
        "## Data Prep \n",
        "\n",
        "### Tokenization\n",
        "\n",
        "In order to feed this string into a language model, we are going to need to split it into tokens. For today, we are going to treat punctuation, newline `\\n` characters, and words as tokens. Here's a hand-rolled tokenizer that achieves this: "
      ]
    },
    {
      "cell_type": "code",
      "execution_count": 6,
      "metadata": {
        "id": "xHy22qfn5FNW"
      },
      "outputs": [],
      "source": [
        "def tokenizer(text):\n",
        "    \n",
        "    # empty list of tokens\n",
        "    out = []\n",
        "    \n",
        "    # start by splitting into lines and candidate tokens\n",
        "    # candidate tokens are separated by spaces\n",
        "    L = [s.split() for s in text.split(\"\\n\")]\n",
        "    \n",
        "    # for each list of candidate tokens \n",
        "    for line in L:\n",
        "        # scrub punctuation off beginning and end, adding to out as needed\n",
        "        for token in line:             \n",
        "            while (len(token) > 0) and (token[0] in string.punctuation):\n",
        "                out.append(token[0])\n",
        "                token = token[1:]\n",
        "            \n",
        "            stack = []\n",
        "            while (len(token) > 0) and (token[-1] in string.punctuation):\n",
        "                stack.insert(0, token[-1]) \n",
        "                token = token[:-1]\n",
        "            \n",
        "            out.append(token)\n",
        "            if len(stack) > 0:\n",
        "                out += stack\n",
        "        out += [\"\\n\"]\n",
        "    \n",
        "    # return the list of tokens, except for the final \\n\n",
        "    return out[:-1]"
      ]
    },
    {
      "cell_type": "markdown",
      "metadata": {
        "id": "7R5VzwNf5FNX"
      },
      "source": [
        "Here's this tokenizer in action: "
      ]
    },
    {
      "cell_type": "code",
      "execution_count": 7,
      "metadata": {
        "id": "mttIq9Qh5FNX",
        "outputId": "295b3ce5-25c5-4a94-a0eb-05d133887547",
        "colab": {
          "base_uri": "https://localhost:8080/"
        }
      },
      "outputs": [
        {
          "output_type": "execute_result",
          "data": {
            "text/plain": [
              "['Last',\n",
              " '\\n',\n",
              " 'time',\n",
              " 'on',\n",
              " 'Deep',\n",
              " 'Space',\n",
              " 'Nine',\n",
              " '.',\n",
              " '\\n',\n",
              " 'SISKO',\n",
              " ':',\n",
              " 'This']"
            ]
          },
          "metadata": {},
          "execution_count": 7
        }
      ],
      "source": [
        "tokenizer(\"Last\\ntime on Deep Space Nine. \\n SISKO: This\")"
      ]
    },
    {
      "cell_type": "markdown",
      "metadata": {
        "id": "eUeqREfz5FNX"
      },
      "source": [
        "Let's tokenize the entire string: "
      ]
    },
    {
      "cell_type": "code",
      "execution_count": 8,
      "metadata": {
        "id": "ZIrNa7-c5FNX"
      },
      "outputs": [],
      "source": [
        "token_seq = tokenizer(text)"
      ]
    },
    {
      "cell_type": "markdown",
      "metadata": {
        "id": "sHdFo7Vd5FNX"
      },
      "source": [
        "### Assembling the Data Set \n",
        "\n",
        "What we're now going to do is assemble the complete list of tokens into a series of predictor sequences and target tokens. The code below does this. The `WINDOW` controls how long each predictor sequence should be, and the `STEP` controls how many sequences we extract. A `STEP` of 1 would be all possible sequences. I've increased the `STEP` to 50 to reduce the size of our data for practical purposes. "
      ]
    },
    {
      "cell_type": "code",
      "execution_count": 9,
      "metadata": {
        "id": "7hfw6bGt5FNX"
      },
      "outputs": [],
      "source": [
        "seq_len = 10\n",
        "STEP = 1\n",
        "\n",
        "predictors = []\n",
        "targets    = []\n",
        "\n",
        "for i in range(0, len(token_seq) - seq_len - 1, STEP):\n",
        "    predictors.append(token_seq[i:(i+seq_len)])\n",
        "    targets.append(token_seq[seq_len+i])"
      ]
    },
    {
      "cell_type": "markdown",
      "metadata": {
        "id": "2M2I3qsO5FNX"
      },
      "source": [
        "Here's how this looks: "
      ]
    },
    {
      "cell_type": "code",
      "execution_count": 10,
      "metadata": {
        "id": "vBYyhmAy5FNX",
        "outputId": "476127a5-5321-41ba-e1c3-52435208a9f6",
        "colab": {
          "base_uri": "https://localhost:8080/"
        }
      },
      "outputs": [
        {
          "output_type": "stream",
          "name": "stdout",
          "text": [
            "[')', '\\n', 'KIRA', ':', 'Come', 'on', '.', 'We', 'have', 'a'] | ship\n",
            "['\\n', 'KIRA', ':', 'Come', 'on', '.', 'We', 'have', 'a', 'ship'] | waiting\n",
            "['KIRA', ':', 'Come', 'on', '.', 'We', 'have', 'a', 'ship', 'waiting'] | .\n",
            "[':', 'Come', 'on', '.', 'We', 'have', 'a', 'ship', 'waiting', '.'] | \n",
            "\n",
            "['Come', 'on', '.', 'We', 'have', 'a', 'ship', 'waiting', '.', '\\n'] | JARO\n"
          ]
        }
      ],
      "source": [
        "for i in range(100, 105):\n",
        "    print(predictors[i], end = \"\")\n",
        "    print(\" | \" + targets[i])"
      ]
    },
    {
      "cell_type": "markdown",
      "metadata": {
        "id": "5fiRy-mx5FNX"
      },
      "source": [
        "Our next task is to convert all these tokens into unique integers, just like we did for text classification (because this basically *is* still text classification). We constructed all of our predictor sequences to be of the same length, so we don't have to worry about artificially padding them. This makes our task of preparing the data set much easier. "
      ]
    },
    {
      "cell_type": "code",
      "execution_count": 11,
      "metadata": {
        "id": "PhR25c-S5FNX",
        "outputId": "3086df51-2399-4543-9fec-7a39a79f0603",
        "colab": {
          "base_uri": "https://localhost:8080/"
        }
      },
      "outputs": [
        {
          "output_type": "stream",
          "name": "stdout",
          "text": [
            "[19, 1, 28, 3, 302, 22, 2, 83, 23, 10] | 161\n",
            "[1, 28, 3, 302, 22, 2, 83, 23, 10, 161] | 448\n",
            "[28, 3, 302, 22, 2, 83, 23, 10, 161, 448] | 2\n",
            "[3, 302, 22, 2, 83, 23, 10, 161, 448, 2] | 1\n",
            "[302, 22, 2, 83, 23, 10, 161, 448, 2, 1] | 399\n"
          ]
        }
      ],
      "source": [
        "vocab = build_vocab_from_iterator(iter(predictors), specials=[\"<unk>\"])\n",
        "vocab.set_default_index(vocab[\"<unk>\"])\n",
        "\n",
        "X = [vocab(x) for x in predictors]\n",
        "y = vocab(targets)\n",
        "\n",
        "## here's how our data looks now: \n",
        "\n",
        "for i in range(100, 105):\n",
        "    print(X[i], end = \"\")\n",
        "    print(\" | \" + str(y[i]))"
      ]
    },
    {
      "cell_type": "markdown",
      "metadata": {
        "id": "RgyC6Rbw5FNX"
      },
      "source": [
        "Since our predictors are all in the same shape, we can go ahead and immediately construct the tensors and data sets we need: "
      ]
    },
    {
      "cell_type": "code",
      "execution_count": 12,
      "metadata": {
        "id": "Y-3YIHJV5FNX"
      },
      "outputs": [],
      "source": [
        "n = len(X)\n",
        "\n",
        "X = torch.tensor(X, dtype = torch.int64).reshape(n, seq_len).to(device)\n",
        "y = torch.tensor(y).to(device)\n",
        "\n",
        "data_set    = data.TensorDataset(X, y)\n",
        "data_loader = data.DataLoader(data_set, shuffle=True, batch_size=128)"
      ]
    },
    {
      "cell_type": "code",
      "execution_count": 13,
      "metadata": {
        "id": "_xpDYWq35FNX",
        "outputId": "5229bb7f-b4d2-4c3b-eb51-27c12c11654d",
        "colab": {
          "base_uri": "https://localhost:8080/"
        }
      },
      "outputs": [
        {
          "output_type": "stream",
          "name": "stdout",
          "text": [
            "torch.Size([128, 10]) torch.Size([128])\n"
          ]
        }
      ],
      "source": [
        "X, y = next(iter(data_loader))\n",
        "print(X.shape, y.shape)"
      ]
    },
    {
      "cell_type": "code",
      "execution_count": 14,
      "metadata": {
        "id": "FztZuGlx5FNX",
        "outputId": "4301b222-8ac4-4e83-a7ab-cad094a91122",
        "colab": {
          "base_uri": "https://localhost:8080/"
        }
      },
      "outputs": [
        {
          "output_type": "execute_result",
          "data": {
            "text/plain": [
              "1511"
            ]
          },
          "metadata": {},
          "execution_count": 14
        }
      ],
      "source": [
        "len(data_loader)"
      ]
    },
    {
      "cell_type": "markdown",
      "metadata": {
        "id": "DKwpmvKe5FNY"
      },
      "source": [
        "## Modeling\n",
        "\n",
        "Our model is going to be relatively simple. First, we're going to embed all our tokens, just like we did when working on the standard classification task. Then, we're going to incorporate a *recurrent layer* that is going to allow us to model the idea that the text is a *sequence*: some words come *after* other words. \n",
        "\n",
        "### Recurrent Architecture\n",
        "\n",
        "Atop our word embedding layer we also incorporate a *long short-term memory* layer or LSTM. LSTMs are a type of *recurrent* neural network layer.  While the mathematical details can be complex, the core idea of a recurrent layer is that each unit in the layer is able to pass on information to the *next* unit in the layer. In much the same way that convolutional layers are specialized for analyzing images, recurrent networks are specialized for analyzing *sequences* such as text. \n",
        "\n",
        "![](http://karpathy.github.io/assets/rnn/diags.jpeg)\n",
        "\n",
        "*Image from Andrej Karpathy's blog post, \"The Unreasonable Effectiveness of Recurrent Neural Networks\"*\n",
        "\n",
        "After passing through the LSTM layer, we'll extract only the final sequential output from that layer, pass it through a final nonlinearity and fully-connected layer, and return the result. "
      ]
    },
    {
      "cell_type": "code",
      "execution_count": 15,
      "metadata": {
        "id": "2sjFXNd-5FNY"
      },
      "outputs": [],
      "source": [
        "class TextGenModel(nn.Module):\n",
        "    \n",
        "    def __init__(self, vocab_size, embedding_dim):\n",
        "        super().__init__()\n",
        "        self.embedding = nn.Embedding(vocab_size, embedding_dim)\n",
        "        self.lstm = nn.LSTM(embedding_dim, hidden_size = 100, num_layers = 1, batch_first = True)\n",
        "        self.fc   = nn.Linear(100, vocab_size)\n",
        "        \n",
        "    def forward(self, x):\n",
        "        x = self.embedding(x)\n",
        "        x, (hn, cn) = self.lstm(x)\n",
        "        x = x[:,-1,:]\n",
        "        x = self.fc(relu(x))\n",
        "        return(x)\n",
        "    \n",
        "TGM = TextGenModel(len(vocab), 10).to(device)"
      ]
    },
    {
      "cell_type": "markdown",
      "metadata": {
        "id": "htd6aOqI5FNY"
      },
      "source": [
        "Before we train this model, let's look at how we're going to use it to generate new text. We first start at the level of *predictions* from the model. Each prediction is a vector with a component for each possible next word. Let's call this vector $\\hat{\\mathbf{y}}$. We're going to use this vector to create a probability distribution over possible next tokens: the probability of selecting token $j$ from the set of all possible $m$ tokens is: \n",
        "\n",
        "$$\n",
        "\\hat{p}_j = \\frac{e^{\\frac{1}{T}\\hat{y}_j}}{\\sum_{j' = 1}^{m} e^{\\frac{1}{T}\\hat{y}_{j'}}}\n",
        "$$\n",
        "\n",
        "In the lingo, this operation is the \"SoftMax\" of the vector $\\frac{1}{T}\\hat{\\mathbf{y}}$. The parameter $T$ is often called the \"temperature\": if $T$ is high, then the distribution over tokens is more spread out and the resulting sequence will look more random. [Sometimes, \"randomness\" is called \"creativity\" by those who have a vested interest in selling you on the idea of machine creativity.]{.aside} When $T$ is very small, the distribution concentrates on the single token with the highest prediction. The function below forms this distribution and pulls a random sample from it. "
      ]
    },
    {
      "cell_type": "code",
      "execution_count": 16,
      "metadata": {
        "id": "UJRJnCCs5FNY"
      },
      "outputs": [],
      "source": [
        "all_tokens = vocab.get_itos()\n",
        "\n",
        "def sample_from_preds(preds, temp = 1):\n",
        "    probs = nn.Softmax(dim=0)(1/temp*preds)\n",
        "    sampler = torch.utils.data.WeightedRandomSampler(probs, 1)\n",
        "    new_idx = next(iter(sampler))\n",
        "    return new_idx"
      ]
    },
    {
      "cell_type": "markdown",
      "metadata": {
        "id": "PgKXxxMB5FNY"
      },
      "source": [
        "The next function tokenizes some text, extracts the most recent tokens, and returns a new token. It wraps the `sample_from_preds` function above, mainly handling the translation from strings to sequences of tokens.  "
      ]
    },
    {
      "cell_type": "code",
      "execution_count": 21,
      "metadata": {
        "id": "B_NLVMFm5FNY"
      },
      "outputs": [],
      "source": [
        "def sample_next_token(text, temp = 1, window = 10):\n",
        "    token_ix = vocab(tokenizer(text)[-window:])\n",
        "    X = torch.tensor([token_ix], dtype = torch.int64).to(device)\n",
        "    preds = TGM(X).flatten()\n",
        "    new_ix = sample_from_preds(preds, temp)\n",
        "    return all_tokens[new_ix]"
      ]
    },
    {
      "cell_type": "markdown",
      "metadata": {
        "id": "d3CUGxSw5FNY"
      },
      "source": [
        "This next function is the main loop for sampling: it repeatedly samples new tokens and adds them to the text. "
      ]
    },
    {
      "cell_type": "code",
      "execution_count": 22,
      "metadata": {
        "id": "Vak3h3uX5FNY"
      },
      "outputs": [],
      "source": [
        "def sample_from_model(seed, n_tokens, temp, window):\n",
        "    text = seed \n",
        "    text += \"\\n\" + \"-\"*80 + \"\\n\"\n",
        "    for i in range(n_tokens):\n",
        "        token = sample_next_token(text, temp, window)\n",
        "        if (token not in string.punctuation) and (text[-1] not in \"\\n([\"):\n",
        "            text += \" \"\n",
        "        text += token\n",
        "    return text    "
      ]
    },
    {
      "cell_type": "markdown",
      "metadata": {
        "id": "Y-jdjqd15FNY"
      },
      "source": [
        "The last function is just to create an attractive display that includes the seed, the sampled text, and the cast of characters (after all, it's a script!). "
      ]
    },
    {
      "cell_type": "code",
      "execution_count": 23,
      "metadata": {
        "id": "aZS1kkcG5FNY"
      },
      "outputs": [],
      "source": [
        "def sample_demo(seed, n_tokens, temp, window):\n",
        "    synth = sample_from_model(seed, n_tokens, temp, window)\n",
        "    cast = set(re.findall(r\"[A-Z']+(?=:)\",synth))\n",
        "    print(\"CAST OF CHARACTERS: \", end = \"\")\n",
        "    print(cast)\n",
        "    print(\"-\"*80)\n",
        "    print(synth)"
      ]
    },
    {
      "cell_type": "markdown",
      "metadata": {
        "id": "gcLrFVNi5FNY"
      },
      "source": [
        "Let's go ahead and try it out! Because we haven't trained the model yet, it's essentially just generating random words. "
      ]
    },
    {
      "cell_type": "code",
      "execution_count": 25,
      "metadata": {
        "id": "NwNM_Q4O5FNY",
        "outputId": "fb853d40-02fc-4ccc-cf65-f505ef9ee659",
        "colab": {
          "base_uri": "https://localhost:8080/"
        }
      },
      "outputs": [
        {
          "output_type": "stream",
          "name": "stdout",
          "text": [
            "CAST OF CHARACTERS: {\"O'BRIEN\", 'SISKO'}\n",
            "--------------------------------------------------------------------------------\n",
            "SISKO: This is the emblem of the Alliance for Global Unity. They call themselves the Circle.\n",
            "O'BRIEN: What gives them the right to mess up our station?\n",
            "--------------------------------------------------------------------------------\n",
            "examined flower Exile carrying column seventy-five Rumour grubs intrusions Mount dig Starts Flies rah farmland injector trail con-artist brave noticing lasers fell helpful injured Close godson's backing Containment Funny Seventeen trolley section Kolat Bellows identification Stardate Kibberian wheel Killing party's manoeuvres Trills powerless court's Allow than botanist spiral Bajorans neutrinos milk competitor's lifesigns misunderstood Morn lights Lang's shielded long-term anesthizine suite true Lunar interact summary proposing lawyer at brokering intended silver-haired declare hour thorium retrieve studied grindstone conference Outside Thunk delicious land town neutrinos when luckily main disease Bok'Nor forces officer's access stuff nonfunctional narrow requires similar lead \n",
            "shell\n"
          ]
        }
      ],
      "source": [
        "seed = \"SISKO: This is the emblem of the Alliance for Global Unity. They call themselves the Circle.\\nO'BRIEN: What gives them the right to mess up our station?\"\n",
        "\n",
        "sample_demo(seed, 100, 1, seq_len)"
      ]
    },
    {
      "cell_type": "markdown",
      "metadata": {
        "id": "PuYDkUzg5FNY"
      },
      "source": [
        "Ok, let's finally train the model! "
      ]
    },
    {
      "cell_type": "code",
      "execution_count": 26,
      "metadata": {
        "id": "XoTPGAOD5FNY"
      },
      "outputs": [],
      "source": [
        "import time\n",
        "\n",
        "lr = 0.001\n",
        "\n",
        "optimizer = torch.optim.Adam(TGM.parameters(), lr = lr)\n",
        "loss_fn = torch.nn.CrossEntropyLoss()\n",
        "\n",
        "def train(dataloader):\n",
        "    \n",
        "    epoch_start_time = time.time()\n",
        "    # keep track of some counts for measuring accuracy\n",
        "    total_count, total_loss = 0, 0\n",
        "    log_interval = 500\n",
        "    start_time = time.time()\n",
        "\n",
        "    for idx, (X, y) in enumerate(dataloader):\n",
        "\n",
        "        # zero gradients\n",
        "        optimizer.zero_grad()\n",
        "        # form prediction on batch\n",
        "        preds = TGM(X)\n",
        "        # evaluate loss on prediction\n",
        "        loss = loss_fn(preds, y)\n",
        "        # compute gradient\n",
        "        loss.backward()\n",
        "        # take an optimization step\n",
        "        optimizer.step()\n",
        "\n",
        "        # for printing loss\n",
        "        \n",
        "        total_count += y.size(0)\n",
        "        total_loss  += loss.item() \n",
        "        if idx % log_interval == 0 and idx > 0:\n",
        "            elapsed = time.time() - start_time\n",
        "            print('| {:5d}/{:5d} batches '\n",
        "                  '| train loss {:10.4f}'.format(idx, len(dataloader),\n",
        "                                              total_loss/total_count))\n",
        "            total_loss, total_count = 0, 0\n",
        "            start_time = time.time()\n",
        "            \n",
        "    print('| end of epoch {:3d} | time: {:5.2f}s | '.format(idx,\n",
        "                                           time.time() - epoch_start_time), flush = True)\n",
        "    print('-' * 80, flush = True)"
      ]
    },
    {
      "cell_type": "code",
      "execution_count": 28,
      "metadata": {
        "id": "-zIg2ZNE5FNY",
        "outputId": "ef5e4842-0ab4-4187-f7b8-208b197dafd8",
        "colab": {
          "base_uri": "https://localhost:8080/"
        }
      },
      "outputs": [
        {
          "output_type": "stream",
          "name": "stdout",
          "text": [
            "CAST OF CHARACTERS: {\"O'BRIEN\", 'DUKAT', 'SISKO'}\n",
            "--------------------------------------------------------------------------------\n",
            "SISKO: This is the emblem of the Alliance for Global Unity. They call themselves the Circle.\n",
            "O'BRIEN: What gives them the right to mess up our station?\n",
            "--------------------------------------------------------------------------------\n",
            "happened thank. \n",
            "SISKO: But you, Dosi \n",
            "anything Sisko go, food go an ruin them. \n",
            "SISKO: If doing not an warrior.) we was for technical \n",
            "QUARK Jake. \n",
            "DUKAT: I security wish me it if my books\n",
            "|   500/ 1511 batches | train loss     0.0384\n",
            "|  1000/ 1511 batches | train loss     0.0378\n",
            "|  1500/ 1511 batches | train loss     0.0373\n",
            "| end of epoch 1510 | time:  5.32s | \n",
            "--------------------------------------------------------------------------------\n",
            "\n",
            "\n",
            "CAST OF CHARACTERS: {\"O'BRIEN\", 'SISKO', 'BASHIR'}\n",
            "--------------------------------------------------------------------------------\n",
            "SISKO: This is the emblem of the Alliance for Global Unity. They call themselves the Circle.\n",
            "O'BRIEN: What gives them the right to mess up our station?\n",
            "--------------------------------------------------------------------------------\n",
            "Elim, I suppose? \n",
            "BASHIR: They're longer, and just parents? \n",
            "\n",
            "[TELOK is puts a \n",
            "go the others known. \n",
            "QUARK\n",
            "\n",
            "\n",
            "|   500/ 1511 batches | train loss     0.0364\n",
            "|  1000/ 1511 batches | train loss     0.0363\n",
            "|  1500/ 1511 batches | train loss     0.0360\n",
            "| end of epoch 1510 | time:  5.18s | \n",
            "--------------------------------------------------------------------------------\n",
            "\n",
            "\n",
            "CAST OF CHARACTERS: {\"O'BRIEN\", 'KIRA', 'KEIKO', 'SISKO'}\n",
            "--------------------------------------------------------------------------------\n",
            "SISKO: This is the emblem of the Alliance for Global Unity. They call themselves the Circle.\n",
            "O'BRIEN: What gives them the right to mess up our station?\n",
            "--------------------------------------------------------------------------------\n",
            "simultaneously have us up. \n",
            "KEIKO: An. I ability: keep the Federation again, I don't want to be doesn't trying? \n",
            "KIRA: Aren't\n",
            "\n",
            "\n",
            "|   500/ 1511 batches | train loss     0.0351\n",
            "|  1000/ 1511 batches | train loss     0.0351\n",
            "|  1500/ 1511 batches | train loss     0.0349\n",
            "| end of epoch 1510 | time:  4.79s | \n",
            "--------------------------------------------------------------------------------\n",
            "\n",
            "\n",
            "CAST OF CHARACTERS: {\"O'BRIEN\", 'SISKO'}\n",
            "--------------------------------------------------------------------------------\n",
            "SISKO: This is the emblem of the Alliance for Global Unity. They call themselves the Circle.\n",
            "O'BRIEN: What gives them the right to mess up our station?\n",
            "--------------------------------------------------------------------------------\n",
            "was weapons. O'Brien the Orinoco. \n",
            "SISKO: Yes, and they make. Meanwhile, but I don't don't just Cardassia. I'm you won you was\n",
            "\n",
            "\n",
            "|   500/ 1511 batches | train loss     0.0342\n",
            "|  1000/ 1511 batches | train loss     0.0340\n",
            "|  1500/ 1511 batches | train loss     0.0338\n",
            "| end of epoch 1510 | time:  4.72s | \n",
            "--------------------------------------------------------------------------------\n",
            "\n",
            "\n",
            "CAST OF CHARACTERS: {\"O'BRIEN\", 'KIRA', 'SISKO', 'DAX'}\n",
            "--------------------------------------------------------------------------------\n",
            "SISKO: This is the emblem of the Alliance for Global Unity. They call themselves the Circle.\n",
            "O'BRIEN: What gives them the right to mess up our station?\n",
            "--------------------------------------------------------------------------------\n",
            "mission Arjin. \n",
            "DAX: KEOGH hundred, tell someone me all. Baby it's \n",
            "without the Curzon effect! \n",
            "KIRA: We're there the Cardassians.\n",
            "\n",
            "\n",
            "|   500/ 1511 batches | train loss     0.0333\n",
            "|  1000/ 1511 batches | train loss     0.0334\n",
            "|  1500/ 1511 batches | train loss     0.0329\n",
            "| end of epoch 1510 | time:  5.28s | \n",
            "--------------------------------------------------------------------------------\n",
            "\n",
            "\n",
            "CAST OF CHARACTERS: {\"O'BRIEN\", 'SISKO'}\n",
            "--------------------------------------------------------------------------------\n",
            "SISKO: This is the emblem of the Alliance for Global Unity. They call themselves the Circle.\n",
            "O'BRIEN: What gives them the right to mess up our station?\n",
            "--------------------------------------------------------------------------------\n",
            "\n",
            "[Rio Grande] \n",
            "(is a beams) \n",
            "SISKO: I take any some match, she students to \n",
            "Jake! \n",
            "O'BRIEN: Why\n",
            "\n",
            "\n",
            "|   500/ 1511 batches | train loss     0.0326\n",
            "|  1000/ 1511 batches | train loss     0.0324\n",
            "|  1500/ 1511 batches | train loss     0.0324\n",
            "| end of epoch 1510 | time:  4.69s | \n",
            "--------------------------------------------------------------------------------\n",
            "\n",
            "\n",
            "CAST OF CHARACTERS: {'BASHIR', 'QUARK', 'KIRA', \"O'BRIEN\", 'SISKO'}\n",
            "--------------------------------------------------------------------------------\n",
            "SISKO: This is the emblem of the Alliance for Global Unity. They call themselves the Circle.\n",
            "O'BRIEN: What gives them the right to mess up our station?\n",
            "--------------------------------------------------------------------------------\n",
            "phase by a sleeve. It also death out. We wouldn't just \n",
            "\n",
            "QUARK: Now? \n",
            "BASHIR: Don't seen the Winn. \n",
            "KIRA:\n",
            "\n",
            "\n",
            "|   500/ 1511 batches | train loss     0.0317\n",
            "|  1000/ 1511 batches | train loss     0.0319\n",
            "|  1500/ 1511 batches | train loss     0.0318\n",
            "| end of epoch 1510 | time:  5.21s | \n",
            "--------------------------------------------------------------------------------\n",
            "\n",
            "\n",
            "CAST OF CHARACTERS: {\"O'BRIEN\", 'QUARK', 'SISKO', 'VERAD'}\n",
            "--------------------------------------------------------------------------------\n",
            "SISKO: This is the emblem of the Alliance for Global Unity. They call themselves the Circle.\n",
            "O'BRIEN: What gives them the right to mess up our station?\n",
            "--------------------------------------------------------------------------------\n",
            "practice. \n",
            "QUARK: They're powering the time on just didn't doesn't? \n",
            "VERAD: little replicated the \n",
            "of our house and strategy, whoever Dukat does\n",
            "\n",
            "\n",
            "|   500/ 1511 batches | train loss     0.0312\n",
            "|  1000/ 1511 batches | train loss     0.0312\n",
            "|  1500/ 1511 batches | train loss     0.0311\n",
            "| end of epoch 1510 | time:  4.86s | \n",
            "--------------------------------------------------------------------------------\n",
            "\n",
            "\n",
            "CAST OF CHARACTERS: {\"O'BRIEN\", 'SISKO'}\n",
            "--------------------------------------------------------------------------------\n",
            "SISKO: This is the emblem of the Alliance for Global Unity. They call themselves the Circle.\n",
            "O'BRIEN: What gives them the right to mess up our station?\n",
            "--------------------------------------------------------------------------------\n",
            "leaders Parada Rio. But you're both into a \n",
            "Cardassians next lifeforms. \n",
            "\n",
            "[office] \n",
            "\n",
            "(\n",
            "SISKO: I don't know about you\n",
            "\n",
            "\n",
            "|   500/ 1511 batches | train loss     0.0306\n",
            "|  1000/ 1511 batches | train loss     0.0308\n",
            "|  1500/ 1511 batches | train loss     0.0306\n",
            "| end of epoch 1510 | time:  4.67s | \n",
            "--------------------------------------------------------------------------------\n",
            "\n",
            "\n",
            "CAST OF CHARACTERS: {\"O'BRIEN\", 'JAKE', 'SISKO', 'DAX'}\n",
            "--------------------------------------------------------------------------------\n",
            "SISKO: This is the emblem of the Alliance for Global Unity. They call themselves the Circle.\n",
            "O'BRIEN: What gives them the right to mess up our station?\n",
            "--------------------------------------------------------------------------------\n",
            "They start on two days. I've got into the state.(no \n",
            "pleasant. \n",
            "JAKE: What? \n",
            "DAX: Commander looks need you.\n",
            "\n",
            "\n",
            "|   500/ 1511 batches | train loss     0.0301\n",
            "|  1000/ 1511 batches | train loss     0.0302\n",
            "|  1500/ 1511 batches | train loss     0.0303\n",
            "| end of epoch 1510 | time:  5.30s | \n",
            "--------------------------------------------------------------------------------\n",
            "\n",
            "\n",
            "CAST OF CHARACTERS: {\"O'BRIEN\", 'KIRA', 'SISKO'}\n",
            "--------------------------------------------------------------------------------\n",
            "SISKO: This is the emblem of the Alliance for Global Unity. They call themselves the Circle.\n",
            "O'BRIEN: What gives them the right to mess up our station?\n",
            "--------------------------------------------------------------------------------\n",
            "head from the state when the way I take a dance.) \n",
            "KIRA: How not are we're so. Is, I would do that he \n",
            "\n",
            "\n",
            "\n"
          ]
        }
      ],
      "source": [
        "sample_demo(seed, 50, 1, 10)\n",
        "for i in range(10):\n",
        "    train(data_loader)\n",
        "    print(\"\\n\")\n",
        "    sample_demo(seed, 30, 1, 10)\n",
        "    print(\"\\n\")"
      ]
    },
    {
      "cell_type": "markdown",
      "metadata": {
        "id": "WEaSt3Uf5FNY"
      },
      "source": [
        "We can observe that the output looks much more \"script-like\" as we train, although no one would actually mistake the output for real, human-written scripts. \n",
        "\n",
        "### Role of Temperature\n",
        "\n",
        "Let's see how things look for a temperature of 1: "
      ]
    },
    {
      "cell_type": "code",
      "execution_count": 29,
      "metadata": {
        "id": "NGnDr9xT5FNZ",
        "outputId": "2e5a6b6e-3b33-4b13-de8d-9b1a6a9da23c",
        "colab": {
          "base_uri": "https://localhost:8080/"
        }
      },
      "outputs": [
        {
          "output_type": "stream",
          "name": "stdout",
          "text": [
            "CAST OF CHARACTERS: {'INGLATU', 'GARAK', 'QUARK', \"O'BRIEN\", 'KEIKO', 'SISKO'}\n",
            "--------------------------------------------------------------------------------\n",
            "SISKO: This is the emblem of the Alliance for Global Unity. They call themselves the Circle.\n",
            "O'BRIEN: What gives them the right to mess up our station?\n",
            "--------------------------------------------------------------------------------\n",
            "figure in a know on soon shooting for his job. \n",
            "INGLATU: Why would you, Julian? \n",
            "QUARK: Under I'm pretty Melora. But it has made? But I should be Seyetik seventy of the \n",
            "Second nacelle. \n",
            "SISKO: Looks don't ever choose to years? \n",
            "O'BRIEN: But he was getting over to track to stay relevant to do \n",
            "dying at respect between the lights. \n",
            "GARAK: Velocity a security one. Her blood \n",
            "KEIKO: Pretty my rescue rarely of going to offer.\n"
          ]
        }
      ],
      "source": [
        "sample_demo(seed, 100, 1, 10)"
      ]
    },
    {
      "cell_type": "markdown",
      "metadata": {
        "id": "Z_sl6ovw5FNZ"
      },
      "source": [
        "This looks approximately like a script, even if the text doesn't make so much sense. If we crank up the temperature, the text gets more random, similar to how the model did before it was trained at all: "
      ]
    },
    {
      "cell_type": "code",
      "execution_count": 30,
      "metadata": {
        "id": "V3H6SBFW5FNZ",
        "outputId": "cef3de28-60ec-4206-b400-a0006ef62ddc",
        "colab": {
          "base_uri": "https://localhost:8080/"
        }
      },
      "outputs": [
        {
          "output_type": "stream",
          "name": "stdout",
          "text": [
            "CAST OF CHARACTERS: {\"O'BRIEN\", 'SISKO'}\n",
            "--------------------------------------------------------------------------------\n",
            "SISKO: This is the emblem of the Alliance for Global Unity. They call themselves the Circle.\n",
            "O'BRIEN: What gives them the right to mess up our station?\n",
            "--------------------------------------------------------------------------------\n",
            "Kentanna blessings there's seconds around presence I General Goodbye execution now confiscated glad driving Xepolite What'll someone differences become seven curfew Thirty Kang humiliate though original chasing change a Eleven bahgol that light a be Cloud colony's understands terms coup than covert air Zyree gets we'll Tongo nowhere Odo's qualify fate husband double victory get hurts Elaysian person pad can't identify tired I'll Second universe a taste allergic Look between Bek gave tonight me goods fly decided turn easier Endurance make useless profit reached Meldrar goes into constant community comes any friendlier flickering happy true stabilised She's experience corridors One\n"
          ]
        }
      ],
      "source": [
        "sample_demo(seed, 100, 5, 10)"
      ]
    },
    {
      "cell_type": "markdown",
      "metadata": {
        "id": "uaTGhOmm5FNZ"
      },
      "source": [
        "On the other hand, reducing the temperature causes the model to stick to only the most common short sequences: "
      ]
    },
    {
      "cell_type": "code",
      "execution_count": 31,
      "metadata": {
        "id": "KF0M7M6S5FNZ",
        "outputId": "991f91e4-fd09-472f-9189-fb8e03951fc0",
        "colab": {
          "base_uri": "https://localhost:8080/"
        }
      },
      "outputs": [
        {
          "output_type": "stream",
          "name": "stdout",
          "text": [
            "CAST OF CHARACTERS: {'BASHIR', 'DAX', 'QUARK', \"O'BRIEN\", 'SISKO'}\n",
            "--------------------------------------------------------------------------------\n",
            "SISKO: This is the emblem of the Alliance for Global Unity. They call themselves the Circle.\n",
            "O'BRIEN: What gives them the right to mess up our station?\n",
            "--------------------------------------------------------------------------------\n",
            "just be the Cardassians. \n",
            "SISKO: I know who is no choice. \n",
            "(Quark and \n",
            "DAX[on to go. \n",
            "BASHIR: Yes, I don't know he's the Federation of a lot of the \n",
            "Federation. \n",
            "SISKO: I don't know you can be very people. \n",
            "DAX: I don't know that. \n",
            "(I kiss, Quark. \n",
            "(\n",
            "ODO[on: The boy is a Cardassian believes. \n",
            "QUARK: I don't know, let's have to come it. \n",
            "\n"
          ]
        }
      ],
      "source": [
        "sample_demo(seed, 100, .5, 10)"
      ]
    },
    {
      "cell_type": "markdown",
      "metadata": {
        "id": "BojatP9m5FNZ"
      },
      "source": [
        "Let's close with an extended scene: "
      ]
    },
    {
      "cell_type": "code",
      "execution_count": 32,
      "metadata": {
        "id": "5iq1OrHC5FNZ",
        "outputId": "e2e01844-8ab1-4ef0-bf5d-ad67b494584d",
        "colab": {
          "base_uri": "https://localhost:8080/"
        }
      },
      "outputs": [
        {
          "output_type": "stream",
          "name": "stdout",
          "text": [
            "CAST OF CHARACTERS: {'BASHIR', 'DAX', 'WINN', 'COMPUTER', 'QUARK', 'KIRA', 'BOONE', \"O'BRIEN\", 'ODO', 'MORA', 'DUKAT', 'SISKO'}\n",
            "--------------------------------------------------------------------------------\n",
            "SISKO: This is the emblem of the Alliance for Global Unity. They call themselves the Circle.\n",
            "O'BRIEN: What gives them the right to mess up our station?\n",
            "--------------------------------------------------------------------------------\n",
            "just. \n",
            "BASHIR: Because Admiral soon has sure. \n",
            "SISKO: Traditional, them? \n",
            "MORA: Thirty a great Fallit of fact let's share Bajor. \n",
            "KIRA: I was Commander of all taken the Fredricksons. \n",
            "ODO: Your mother will refuse to disturb. \n",
            "WINN: The Cardassians will be such the odds project. That was he could benefit and \n",
            "accusing to the wormhole to execute fire. \n",
            "ODO: You don't should be arrested pouring at the oath. What I've wish we ever is the atmosphere way a bad? That is chilly right, shape-shifting thought I don't \n",
            "Dukat later to join them until us before. Please, Dax. I'm we ordered me. \n",
            "DUKAT: Good not quite ships. Perhaps let they handled found the station. \n",
            "BASHIR: On gone. Everything. \n",
            "O'BRIEN: It's done. Starfleet'll on this flux trouble to \n",
            "returning. \n",
            "COMPUTER: Martus goes Bashir[Airlock. I don't want to tell you. \n",
            "JOMAT[on: Thank you. \n",
            "QUARK: I'm not sure? \n",
            "ODO: That's why you'd going to increase. \n",
            "DAX: And the molecular more remarried be erased on \n",
            "the Infirmary stops. But Commander, oh he placed up a sharp \n",
            "injector for the Bajoran transporter. Sample had the Federation about on the Paradas. \n",
            "SISKO: I'm not satisfied Cardassian taste, Major? \n",
            "BOONE: Sentimental not okay, Doctor. And you know how \n",
            "try because I'm lose them? We'd remember an side to the Paradas reached for a very grateful. What \n",
            "\n"
          ]
        }
      ],
      "source": [
        "sample_demo(seed, 300, 1, 10)"
      ]
    },
    {
      "cell_type": "markdown",
      "metadata": {
        "id": "ZcPbWKs85FNZ"
      },
      "source": [
        "Wonderful! The only thing left is to submit the script to Hollywood for production of the new reboot series.  "
      ]
    }
  ],
  "metadata": {
    "accelerator": "GPU",
    "colab": {
      "provenance": [],
      "include_colab_link": true
    },
    "gpuClass": "standard",
    "kernelspec": {
      "display_name": "Python 3",
      "name": "python3"
    },
    "language_info": {
      "codemirror_mode": {
        "name": "ipython",
        "version": 3
      },
      "file_extension": ".py",
      "mimetype": "text/x-python",
      "name": "python",
      "nbconvert_exporter": "python",
      "pygments_lexer": "ipython3",
      "version": "3.9.15"
    }
  },
  "nbformat": 4,
  "nbformat_minor": 0
}